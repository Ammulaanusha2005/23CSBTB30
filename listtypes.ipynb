{
  "nbformat": 4,
  "nbformat_minor": 0,
  "metadata": {
    "colab": {
      "provenance": [],
      "authorship_tag": "ABX9TyNrMWAL6NQ2eYZH61PRA9VE",
      "include_colab_link": true
    },
    "kernelspec": {
      "name": "python3",
      "display_name": "Python 3"
    },
    "language_info": {
      "name": "python"
    }
  },
  "cells": [
    {
      "cell_type": "markdown",
      "metadata": {
        "id": "view-in-github",
        "colab_type": "text"
      },
      "source": [
        "<a href=\"https://colab.research.google.com/github/Ammulaanusha2005/23CSBTB30/blob/main/listtypes.ipynb\" target=\"_parent\"><img src=\"https://colab.research.google.com/assets/colab-badge.svg\" alt=\"Open In Colab\"/></a>"
      ]
    },
    {
      "cell_type": "code",
      "execution_count": 1,
      "metadata": {
        "colab": {
          "base_uri": "https://localhost:8080/"
        },
        "id": "_XyZG_s7txPe",
        "outputId": "8831ca87-2e16-41ed-c703-a9d27c86af60"
      },
      "outputs": [
        {
          "output_type": "stream",
          "name": "stdout",
          "text": [
            "(2, 6, 1, 8)\n",
            "<class 'tuple'>\n"
          ]
        }
      ],
      "source": [
        "lst =(2,6,1,8)\n",
        "print(lst)\n",
        "print(type(lst))\n",
        "\n"
      ]
    },
    {
      "cell_type": "code",
      "source": [
        "fruits = {\"apple\",\"banana\",\"cherry\"}\n",
        "print(fruits)"
      ],
      "metadata": {
        "colab": {
          "base_uri": "https://localhost:8080/"
        },
        "id": "xqgZ7x2ouhOi",
        "outputId": "f57e8399-5715-45e5-c1d9-dfbd4d0de385"
      },
      "execution_count": 2,
      "outputs": [
        {
          "output_type": "stream",
          "name": "stdout",
          "text": [
            "{'cherry', 'apple', 'banana'}\n"
          ]
        }
      ]
    },
    {
      "cell_type": "code",
      "source": [
        "a=\"WELCOME TO AIML LAB\"\n",
        "print(a)"
      ],
      "metadata": {
        "colab": {
          "base_uri": "https://localhost:8080/"
        },
        "id": "j96_w_xYvlK_",
        "outputId": "20313809-e76e-49fa-b35c-53e5e6776bcf"
      },
      "execution_count": 3,
      "outputs": [
        {
          "output_type": "stream",
          "name": "stdout",
          "text": [
            "WELCOME TO AIML LAB\n"
          ]
        }
      ]
    },
    {
      "cell_type": "code",
      "source": [
        "lst2=(2.3,5.7,8.9,10.7)\n",
        "print(lst)\n",
        "print(type(lst2))"
      ],
      "metadata": {
        "colab": {
          "base_uri": "https://localhost:8080/"
        },
        "id": "LNTDsu7lv07_",
        "outputId": "bc40410f-7911-4f1e-e768-4568dc6358a1"
      },
      "execution_count": 4,
      "outputs": [
        {
          "output_type": "stream",
          "name": "stdout",
          "text": [
            "(2, 6, 1, 8)\n",
            "<class 'tuple'>\n"
          ]
        }
      ]
    },
    {
      "cell_type": "code",
      "source": [
        "lst5=(\"2:5\",\"5:8\",\"8:9\")\n",
        "print(lst5)"
      ],
      "metadata": {
        "colab": {
          "base_uri": "https://localhost:8080/"
        },
        "id": "QUIZuXwPwYVt",
        "outputId": "8f4d0830-0b75-4cde-b466-5a3d22f63826"
      },
      "execution_count": 6,
      "outputs": [
        {
          "output_type": "stream",
          "name": "stdout",
          "text": [
            "('2:5', '5:8', '8:9')\n"
          ]
        }
      ]
    }
  ]
}