{
  "nbformat": 4,
  "nbformat_minor": 0,
  "metadata": {
    "colab": {
      "provenance": [],
      "name": "excelsheet.ipynb",
      "authorship_tag": "ABX9TyPbUnR/iS6Ea5NVDQ18k672",
      "include_colab_link": true
    },
    "kernelspec": {
      "name": "python3",
      "display_name": "Python 3"
    },
    "language_info": {
      "name": "python"
    }
  },
  "cells": [
    {
      "cell_type": "markdown",
      "metadata": {
        "id": "view-in-github",
        "colab_type": "text"
      },
      "source": [
        "<a href=\"https://colab.research.google.com/github/Ammulaanusha2005/23CSBTB30/blob/main/excelsheet.ipynb\" target=\"_parent\"><img src=\"https://colab.research.google.com/assets/colab-badge.svg\" alt=\"Open In Colab\"/></a>"
      ]
    },
    {
      "cell_type": "code",
      "execution_count": null,
      "metadata": {
        "colab": {
          "base_uri": "https://localhost:8080/"
        },
        "id": "PFxv_n2Bt-xf",
        "outputId": "bf755294-326d-48cc-ef8f-245800775eb2"
      },
      "outputs": [
        {
          "output_type": "stream",
          "name": "stdout",
          "text": [
            "    S.ID      NAME COURSE      CON.NO\n",
            "0   2110    ANUSHA    CSE  1236865480\n",
            "1   2111   AKSHAYA    CSE  8753629153\n",
            "2   2112     SRIJA   AIML  3462981063\n",
            "3   2113     SHIVA    CSE  7853220975\n",
            "4   2114  NIHARIKA     DS  9638201543\n",
            "5   2115  POOJITHA    CSE  9502218213\n",
            "6   2116    HARSHA    CSE  9959022276\n",
            "7   2117     SRINU   AIML  8008274116\n",
            "8   2118      AJAY    CSE  8897137271\n",
            "9   2119     PAVAN     DS  7569705100\n",
            "10  2120    SRAVAN   AIML  8866775544\n",
            "11  2121    SIRI      CSE  9080706050\n",
            "12  2122      VASU    CSE  1213141516\n",
            "13  2123       RAM     DS  2334455667\n",
            "14  2124      HARI    CSE  9876509876\n",
            "15  2125    NAVEEN   AIML  4769032765\n",
            "16  2126     SUHAS   AIML  1098756473\n",
            "17  2127      ANJU    CSE  9501122323\n",
            "18  2128     RUSHI    CSE  5376281987\n",
            "19  2129     RUCHI   AIML  2223337778\n",
            "20  2130     SNEHA     DS  1234567891\n"
          ]
        }
      ],
      "source": [
        "import pandas as pd\n",
        "data=pd.read_csv(\"/content/FILE1.csv\")\n",
        "print(data)"
      ]
    },
    {
      "cell_type": "code",
      "source": [
        "import pandas as pd\n",
        "data=pd.read_csv(\"/content/heart.csv\")\n",
        "print(data)"
      ],
      "metadata": {
        "colab": {
          "base_uri": "https://localhost:8080/"
        },
        "id": "AyLd7SCV7hnT",
        "outputId": "b09faee4-d07c-4698-ed18-43518cfc4e4b"
      },
      "execution_count": null,
      "outputs": [
        {
          "output_type": "stream",
          "name": "stdout",
          "text": [
            "      age  sex  cp  trestbps  chol  fbs  restecg  thalach  exang  oldpeak  \\\n",
            "0      52    1   0       125   212    0        1      168      0      1.0   \n",
            "1      53    1   0       140   203    1        0      155      1      3.1   \n",
            "2      70    1   0       145   174    0        1      125      1      2.6   \n",
            "3      61    1   0       148   203    0        1      161      0      0.0   \n",
            "4      62    0   0       138   294    1        1      106      0      1.9   \n",
            "...   ...  ...  ..       ...   ...  ...      ...      ...    ...      ...   \n",
            "1020   59    1   1       140   221    0        1      164      1      0.0   \n",
            "1021   60    1   0       125   258    0        0      141      1      2.8   \n",
            "1022   47    1   0       110   275    0        0      118      1      1.0   \n",
            "1023   50    0   0       110   254    0        0      159      0      0.0   \n",
            "1024   54    1   0       120   188    0        1      113      0      1.4   \n",
            "\n",
            "      slope  ca  thal  target  \n",
            "0         2   2     3       0  \n",
            "1         0   0     3       0  \n",
            "2         0   0     3       0  \n",
            "3         2   1     3       0  \n",
            "4         1   3     2       0  \n",
            "...     ...  ..   ...     ...  \n",
            "1020      2   0     2       1  \n",
            "1021      1   1     3       0  \n",
            "1022      1   1     2       0  \n",
            "1023      2   0     2       1  \n",
            "1024      1   1     3       0  \n",
            "\n",
            "[1025 rows x 14 columns]\n"
          ]
        }
      ]
    },
    {
      "cell_type": "code",
      "source": [
        "import pandas as pd\n",
        "data=pd.read_csv(\"/content/games_dataset.csv\")\n",
        "print(data)"
      ],
      "metadata": {
        "colab": {
          "base_uri": "https://localhost:8080/"
        },
        "id": "JvTuS34M_DgX",
        "outputId": "e5f35834-aa23-4059-d243-c60ceabb3655"
      },
      "execution_count": null,
      "outputs": [
        {
          "output_type": "stream",
          "name": "stdout",
          "text": [
            "                                    Game Name       Genre         Platform  \\\n",
            "0                   Sekiro: Shadows Die Twice      Sports  Nintendo Switch   \n",
            "1                                     Control      Puzzle  Nintendo Switch   \n",
            "2                                    Among Us    Strategy  Nintendo Switch   \n",
            "3                Call of Duty: Modern Warfare     Stealth      PlayStation   \n",
            "4                           League of Legends  Simulation               PC   \n",
            "...                                       ...         ...              ...   \n",
            "4995  The Legend of Zelda: Breath of the Wild      Sports               PC   \n",
            "4996                Assassin's Creed Valhalla     Stealth           Mobile   \n",
            "4997             Fall Guys: Ultimate Knockout      Sports           Mobile   \n",
            "4998                            Borderlands 3  Platformer             Xbox   \n",
            "4999         Counter-Strike: Global Offensive      Action      PlayStation   \n",
            "\n",
            "      Release Year  User Rating  \n",
            "0             2014     9.654719  \n",
            "1             2000     3.457386  \n",
            "2             2007     5.367622  \n",
            "3             2005     1.240325  \n",
            "4             2021     3.535476  \n",
            "...            ...          ...  \n",
            "4995          2013     6.352838  \n",
            "4996          2020     1.852730  \n",
            "4997          2021     5.268067  \n",
            "4998          2018     4.558510  \n",
            "4999          2022     3.443231  \n",
            "\n",
            "[5000 rows x 5 columns]\n"
          ]
        }
      ]
    }
  ]
}